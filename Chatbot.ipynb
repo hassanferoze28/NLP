{
 "cells": [
  {
   "cell_type": "markdown",
   "metadata": {},
   "source": [
    "# AIT 526: Programming Assignment 1 \n",
    "# Team 2"
   ]
  },
  {
   "cell_type": "raw",
   "metadata": {},
   "source": [
    "Team members: 1. Fangxin Zhang\n",
    "              2. Muhammad Hassan\n",
    "              3. Shirinithi Thiruppathi\n",
    "              4. Tewodros Tamene"
   ]
  },
  {
   "cell_type": "raw",
   "metadata": {},
   "source": [
    "Description:\n",
    "\n",
    "The Eliza chatbot was first implemented in the 1960s. This notebook is an implementation of the Eliza chatbot. "
   ]
  },
  {
   "cell_type": "markdown",
   "metadata": {},
   "source": [
    "Download the libraries used"
   ]
  },
  {
   "cell_type": "code",
   "execution_count": 2,
   "metadata": {},
   "outputs": [
    {
     "name": "stdout",
     "output_type": "stream",
     "text": [
      "Requirement already satisfied: spacy in c:\\users\\tewod\\anaconda3\\lib\\site-packages (2.3.5)\n",
      "Requirement already satisfied: cymem<2.1.0,>=2.0.2 in c:\\users\\tewod\\anaconda3\\lib\\site-packages (from spacy) (2.0.5)\n",
      "Requirement already satisfied: preshed<3.1.0,>=3.0.2 in c:\\users\\tewod\\anaconda3\\lib\\site-packages (from spacy) (3.0.5)\n",
      "Requirement already satisfied: blis<0.8.0,>=0.4.0 in c:\\users\\tewod\\anaconda3\\lib\\site-packages (from spacy) (0.7.4)\n",
      "Requirement already satisfied: requests<3.0.0,>=2.13.0 in c:\\users\\tewod\\anaconda3\\lib\\site-packages (from spacy) (2.24.0)\n",
      "Collecting catalogue<1.1.0,>=0.0.7\n",
      "  Using cached catalogue-1.0.0-py2.py3-none-any.whl (7.7 kB)\n",
      "Requirement already satisfied: murmurhash<1.1.0,>=0.28.0 in c:\\users\\tewod\\anaconda3\\lib\\site-packages (from spacy) (1.0.5)\n",
      "Requirement already satisfied: wasabi<1.1.0,>=0.4.0 in c:\\users\\tewod\\anaconda3\\lib\\site-packages (from spacy) (0.8.2)\n",
      "Requirement already satisfied: srsly<1.1.0,>=1.0.2 in c:\\users\\tewod\\anaconda3\\lib\\site-packages (from spacy) (1.0.5)\n",
      "Requirement already satisfied: thinc<7.5.0,>=7.4.1 in c:\\users\\tewod\\anaconda3\\lib\\site-packages (from spacy) (7.4.5)\n",
      "Requirement already satisfied: plac<1.2.0,>=0.9.6 in c:\\users\\tewod\\anaconda3\\lib\\site-packages (from spacy) (1.1.3)\n",
      "Requirement already satisfied: numpy>=1.15.0 in c:\\users\\tewod\\anaconda3\\lib\\site-packages (from spacy) (1.19.5)\n",
      "Requirement already satisfied: setuptools in c:\\users\\tewod\\anaconda3\\lib\\site-packages (from spacy) (49.2.0.post20200714)\n",
      "Requirement already satisfied: tqdm<5.0.0,>=4.38.0 in c:\\users\\tewod\\anaconda3\\lib\\site-packages (from spacy) (4.47.0)\n",
      "Requirement already satisfied: certifi>=2017.4.17 in c:\\users\\tewod\\anaconda3\\lib\\site-packages (from requests<3.0.0,>=2.13.0->spacy) (2020.6.20)\n",
      "Requirement already satisfied: chardet<4,>=3.0.2 in c:\\users\\tewod\\anaconda3\\lib\\site-packages (from requests<3.0.0,>=2.13.0->spacy) (3.0.4)\n",
      "Requirement already satisfied: idna<3,>=2.5 in c:\\users\\tewod\\anaconda3\\lib\\site-packages (from requests<3.0.0,>=2.13.0->spacy) (2.10)\n",
      "Requirement already satisfied: urllib3!=1.25.0,!=1.25.1,<1.26,>=1.21.1 in c:\\users\\tewod\\anaconda3\\lib\\site-packages (from requests<3.0.0,>=2.13.0->spacy) (1.25.9)\n",
      "Installing collected packages: catalogue\n",
      "  Attempting uninstall: catalogue\n",
      "    Found existing installation: catalogue 2.0.6\n",
      "    Uninstalling catalogue-2.0.6:\n",
      "      Successfully uninstalled catalogue-2.0.6\n",
      "Successfully installed catalogue-1.0.0\n"
     ]
    },
    {
     "name": "stderr",
     "output_type": "stream",
     "text": [
      "WARNING: You are using pip version 20.2.4; however, version 21.2.4 is available.\n",
      "You should consider upgrading via the 'c:\\users\\tewod\\anaconda3\\python.exe -m pip install --upgrade pip' command.\n",
      "WARNING: You are using pip version 20.2.4; however, version 21.2.4 is available.\n",
      "You should consider upgrading via the 'C:\\Users\\tewod\\anaconda3\\python.exe -m pip install --upgrade pip' command.\n"
     ]
    },
    {
     "name": "stdout",
     "output_type": "stream",
     "text": [
      "Requirement already satisfied: en_core_web_sm==2.3.1 from https://github.com/explosion/spacy-models/releases/download/en_core_web_sm-2.3.1/en_core_web_sm-2.3.1.tar.gz#egg=en_core_web_sm==2.3.1 in c:\\users\\tewod\\anaconda3\\lib\\site-packages (2.3.1)\n",
      "Requirement already satisfied: spacy<2.4.0,>=2.3.0 in c:\\users\\tewod\\anaconda3\\lib\\site-packages (from en_core_web_sm==2.3.1) (2.3.5)\n",
      "Requirement already satisfied: tqdm<5.0.0,>=4.38.0 in c:\\users\\tewod\\anaconda3\\lib\\site-packages (from spacy<2.4.0,>=2.3.0->en_core_web_sm==2.3.1) (4.47.0)\n",
      "Requirement already satisfied: thinc<7.5.0,>=7.4.1 in c:\\users\\tewod\\anaconda3\\lib\\site-packages (from spacy<2.4.0,>=2.3.0->en_core_web_sm==2.3.1) (7.4.5)\n",
      "Requirement already satisfied: cymem<2.1.0,>=2.0.2 in c:\\users\\tewod\\anaconda3\\lib\\site-packages (from spacy<2.4.0,>=2.3.0->en_core_web_sm==2.3.1) (2.0.5)\n",
      "Requirement already satisfied: murmurhash<1.1.0,>=0.28.0 in c:\\users\\tewod\\anaconda3\\lib\\site-packages (from spacy<2.4.0,>=2.3.0->en_core_web_sm==2.3.1) (1.0.5)\n",
      "Requirement already satisfied: blis<0.8.0,>=0.4.0 in c:\\users\\tewod\\anaconda3\\lib\\site-packages (from spacy<2.4.0,>=2.3.0->en_core_web_sm==2.3.1) (0.7.4)\n",
      "Requirement already satisfied: wasabi<1.1.0,>=0.4.0 in c:\\users\\tewod\\anaconda3\\lib\\site-packages (from spacy<2.4.0,>=2.3.0->en_core_web_sm==2.3.1) (0.8.2)\n",
      "Requirement already satisfied: setuptools in c:\\users\\tewod\\anaconda3\\lib\\site-packages (from spacy<2.4.0,>=2.3.0->en_core_web_sm==2.3.1) (49.2.0.post20200714)\n",
      "Requirement already satisfied: requests<3.0.0,>=2.13.0 in c:\\users\\tewod\\anaconda3\\lib\\site-packages (from spacy<2.4.0,>=2.3.0->en_core_web_sm==2.3.1) (2.24.0)\n",
      "Requirement already satisfied: plac<1.2.0,>=0.9.6 in c:\\users\\tewod\\anaconda3\\lib\\site-packages (from spacy<2.4.0,>=2.3.0->en_core_web_sm==2.3.1) (1.1.3)\n",
      "Requirement already satisfied: preshed<3.1.0,>=3.0.2 in c:\\users\\tewod\\anaconda3\\lib\\site-packages (from spacy<2.4.0,>=2.3.0->en_core_web_sm==2.3.1) (3.0.5)\n",
      "Requirement already satisfied: numpy>=1.15.0 in c:\\users\\tewod\\anaconda3\\lib\\site-packages (from spacy<2.4.0,>=2.3.0->en_core_web_sm==2.3.1) (1.19.5)\n",
      "Requirement already satisfied: catalogue<1.1.0,>=0.0.7 in c:\\users\\tewod\\anaconda3\\lib\\site-packages (from spacy<2.4.0,>=2.3.0->en_core_web_sm==2.3.1) (1.0.0)\n",
      "Requirement already satisfied: srsly<1.1.0,>=1.0.2 in c:\\users\\tewod\\anaconda3\\lib\\site-packages (from spacy<2.4.0,>=2.3.0->en_core_web_sm==2.3.1) (1.0.5)\n",
      "Requirement already satisfied: urllib3!=1.25.0,!=1.25.1,<1.26,>=1.21.1 in c:\\users\\tewod\\anaconda3\\lib\\site-packages (from requests<3.0.0,>=2.13.0->spacy<2.4.0,>=2.3.0->en_core_web_sm==2.3.1) (1.25.9)\n",
      "Requirement already satisfied: chardet<4,>=3.0.2 in c:\\users\\tewod\\anaconda3\\lib\\site-packages (from requests<3.0.0,>=2.13.0->spacy<2.4.0,>=2.3.0->en_core_web_sm==2.3.1) (3.0.4)\n",
      "Requirement already satisfied: idna<3,>=2.5 in c:\\users\\tewod\\anaconda3\\lib\\site-packages (from requests<3.0.0,>=2.13.0->spacy<2.4.0,>=2.3.0->en_core_web_sm==2.3.1) (2.10)\n",
      "Requirement already satisfied: certifi>=2017.4.17 in c:\\users\\tewod\\anaconda3\\lib\\site-packages (from requests<3.0.0,>=2.13.0->spacy<2.4.0,>=2.3.0->en_core_web_sm==2.3.1) (2020.6.20)\n",
      "[+] Download and installation successful\n",
      "You can now load the model via spacy.load('en_core_web_sm')\n",
      "Requirement already satisfied: en_core_web_lg==2.3.1 from https://github.com/explosion/spacy-models/releases/download/en_core_web_lg-2.3.1/en_core_web_lg-2.3.1.tar.gz#egg=en_core_web_lg==2.3.1 in c:\\users\\tewod\\anaconda3\\lib\\site-packages (2.3.1)\n",
      "Requirement already satisfied: spacy<2.4.0,>=2.3.0 in c:\\users\\tewod\\anaconda3\\lib\\site-packages (from en_core_web_lg==2.3.1) (2.3.5)\n",
      "Requirement already satisfied: tqdm<5.0.0,>=4.38.0 in c:\\users\\tewod\\anaconda3\\lib\\site-packages (from spacy<2.4.0,>=2.3.0->en_core_web_lg==2.3.1) (4.47.0)\n",
      "Requirement already satisfied: setuptools in c:\\users\\tewod\\anaconda3\\lib\\site-packages (from spacy<2.4.0,>=2.3.0->en_core_web_lg==2.3.1) (49.2.0.post20200714)\n",
      "Requirement already satisfied: numpy>=1.15.0 in c:\\users\\tewod\\anaconda3\\lib\\site-packages (from spacy<2.4.0,>=2.3.0->en_core_web_lg==2.3.1) (1.19.5)\n",
      "Requirement already satisfied: requests<3.0.0,>=2.13.0 in c:\\users\\tewod\\anaconda3\\lib\\site-packages (from spacy<2.4.0,>=2.3.0->en_core_web_lg==2.3.1) (2.24.0)\n",
      "Requirement already satisfied: wasabi<1.1.0,>=0.4.0 in c:\\users\\tewod\\anaconda3\\lib\\site-packages (from spacy<2.4.0,>=2.3.0->en_core_web_lg==2.3.1) (0.8.2)\n",
      "Requirement already satisfied: cymem<2.1.0,>=2.0.2 in c:\\users\\tewod\\anaconda3\\lib\\site-packages (from spacy<2.4.0,>=2.3.0->en_core_web_lg==2.3.1) (2.0.5)\n",
      "Requirement already satisfied: murmurhash<1.1.0,>=0.28.0 in c:\\users\\tewod\\anaconda3\\lib\\site-packages (from spacy<2.4.0,>=2.3.0->en_core_web_lg==2.3.1) (1.0.5)\n",
      "Requirement already satisfied: preshed<3.1.0,>=3.0.2 in c:\\users\\tewod\\anaconda3\\lib\\site-packages (from spacy<2.4.0,>=2.3.0->en_core_web_lg==2.3.1) (3.0.5)\n",
      "Requirement already satisfied: blis<0.8.0,>=0.4.0 in c:\\users\\tewod\\anaconda3\\lib\\site-packages (from spacy<2.4.0,>=2.3.0->en_core_web_lg==2.3.1) (0.7.4)\n",
      "Requirement already satisfied: catalogue<1.1.0,>=0.0.7 in c:\\users\\tewod\\anaconda3\\lib\\site-packages (from spacy<2.4.0,>=2.3.0->en_core_web_lg==2.3.1) (1.0.0)\n",
      "Requirement already satisfied: plac<1.2.0,>=0.9.6 in c:\\users\\tewod\\anaconda3\\lib\\site-packages (from spacy<2.4.0,>=2.3.0->en_core_web_lg==2.3.1) (1.1.3)\n",
      "Requirement already satisfied: thinc<7.5.0,>=7.4.1 in c:\\users\\tewod\\anaconda3\\lib\\site-packages (from spacy<2.4.0,>=2.3.0->en_core_web_lg==2.3.1) (7.4.5)\n",
      "Requirement already satisfied: srsly<1.1.0,>=1.0.2 in c:\\users\\tewod\\anaconda3\\lib\\site-packages (from spacy<2.4.0,>=2.3.0->en_core_web_lg==2.3.1) (1.0.5)\n"
     ]
    },
    {
     "name": "stderr",
     "output_type": "stream",
     "text": [
      "WARNING: You are using pip version 20.2.4; however, version 21.2.4 is available.\n",
      "You should consider upgrading via the 'C:\\Users\\tewod\\anaconda3\\python.exe -m pip install --upgrade pip' command.\n"
     ]
    },
    {
     "name": "stdout",
     "output_type": "stream",
     "text": [
      "Requirement already satisfied: certifi>=2017.4.17 in c:\\users\\tewod\\anaconda3\\lib\\site-packages (from requests<3.0.0,>=2.13.0->spacy<2.4.0,>=2.3.0->en_core_web_lg==2.3.1) (2020.6.20)\n",
      "Requirement already satisfied: urllib3!=1.25.0,!=1.25.1,<1.26,>=1.21.1 in c:\\users\\tewod\\anaconda3\\lib\\site-packages (from requests<3.0.0,>=2.13.0->spacy<2.4.0,>=2.3.0->en_core_web_lg==2.3.1) (1.25.9)\n",
      "Requirement already satisfied: chardet<4,>=3.0.2 in c:\\users\\tewod\\anaconda3\\lib\\site-packages (from requests<3.0.0,>=2.13.0->spacy<2.4.0,>=2.3.0->en_core_web_lg==2.3.1) (3.0.4)\n",
      "Requirement already satisfied: idna<3,>=2.5 in c:\\users\\tewod\\anaconda3\\lib\\site-packages (from requests<3.0.0,>=2.13.0->spacy<2.4.0,>=2.3.0->en_core_web_lg==2.3.1) (2.10)\n",
      "[+] Download and installation successful\n",
      "You can now load the model via spacy.load('en_core_web_lg')\n",
      "Requirement already satisfied: en_core_web_sm==2.3.1 from https://github.com/explosion/spacy-models/releases/download/en_core_web_sm-2.3.1/en_core_web_sm-2.3.1.tar.gz#egg=en_core_web_sm==2.3.1 in c:\\users\\tewod\\anaconda3\\lib\\site-packages (2.3.1)\n",
      "Requirement already satisfied: spacy<2.4.0,>=2.3.0 in c:\\users\\tewod\\anaconda3\\lib\\site-packages (from en_core_web_sm==2.3.1) (2.3.5)\n",
      "Requirement already satisfied: requests<3.0.0,>=2.13.0 in c:\\users\\tewod\\anaconda3\\lib\\site-packages (from spacy<2.4.0,>=2.3.0->en_core_web_sm==2.3.1) (2.24.0)\n",
      "Requirement already satisfied: thinc<7.5.0,>=7.4.1 in c:\\users\\tewod\\anaconda3\\lib\\site-packages (from spacy<2.4.0,>=2.3.0->en_core_web_sm==2.3.1) (7.4.5)\n",
      "Requirement already satisfied: numpy>=1.15.0 in c:\\users\\tewod\\anaconda3\\lib\\site-packages (from spacy<2.4.0,>=2.3.0->en_core_web_sm==2.3.1) (1.19.5)\n",
      "Requirement already satisfied: tqdm<5.0.0,>=4.38.0 in c:\\users\\tewod\\anaconda3\\lib\\site-packages (from spacy<2.4.0,>=2.3.0->en_core_web_sm==2.3.1) (4.47.0)\n",
      "Requirement already satisfied: blis<0.8.0,>=0.4.0 in c:\\users\\tewod\\anaconda3\\lib\\site-packages (from spacy<2.4.0,>=2.3.0->en_core_web_sm==2.3.1) (0.7.4)\n",
      "Requirement already satisfied: setuptools in c:\\users\\tewod\\anaconda3\\lib\\site-packages (from spacy<2.4.0,>=2.3.0->en_core_web_sm==2.3.1) (49.2.0.post20200714)\n",
      "Requirement already satisfied: murmurhash<1.1.0,>=0.28.0 in c:\\users\\tewod\\anaconda3\\lib\\site-packages (from spacy<2.4.0,>=2.3.0->en_core_web_sm==2.3.1) (1.0.5)\n",
      "Requirement already satisfied: cymem<2.1.0,>=2.0.2 in c:\\users\\tewod\\anaconda3\\lib\\site-packages (from spacy<2.4.0,>=2.3.0->en_core_web_sm==2.3.1) (2.0.5)\n",
      "Requirement already satisfied: srsly<1.1.0,>=1.0.2 in c:\\users\\tewod\\anaconda3\\lib\\site-packages (from spacy<2.4.0,>=2.3.0->en_core_web_sm==2.3.1) (1.0.5)\n",
      "Requirement already satisfied: preshed<3.1.0,>=3.0.2 in c:\\users\\tewod\\anaconda3\\lib\\site-packages (from spacy<2.4.0,>=2.3.0->en_core_web_sm==2.3.1) (3.0.5)\n",
      "Requirement already satisfied: wasabi<1.1.0,>=0.4.0 in c:\\users\\tewod\\anaconda3\\lib\\site-packages (from spacy<2.4.0,>=2.3.0->en_core_web_sm==2.3.1) (0.8.2)\n",
      "Requirement already satisfied: catalogue<1.1.0,>=0.0.7 in c:\\users\\tewod\\anaconda3\\lib\\site-packages (from spacy<2.4.0,>=2.3.0->en_core_web_sm==2.3.1) (1.0.0)\n",
      "Requirement already satisfied: plac<1.2.0,>=0.9.6 in c:\\users\\tewod\\anaconda3\\lib\\site-packages (from spacy<2.4.0,>=2.3.0->en_core_web_sm==2.3.1) (1.1.3)\n",
      "Requirement already satisfied: idna<3,>=2.5 in c:\\users\\tewod\\anaconda3\\lib\\site-packages (from requests<3.0.0,>=2.13.0->spacy<2.4.0,>=2.3.0->en_core_web_sm==2.3.1) (2.10)\n",
      "Requirement already satisfied: urllib3!=1.25.0,!=1.25.1,<1.26,>=1.21.1 in c:\\users\\tewod\\anaconda3\\lib\\site-packages (from requests<3.0.0,>=2.13.0->spacy<2.4.0,>=2.3.0->en_core_web_sm==2.3.1) (1.25.9)\n",
      "Requirement already satisfied: certifi>=2017.4.17 in c:\\users\\tewod\\anaconda3\\lib\\site-packages (from requests<3.0.0,>=2.13.0->spacy<2.4.0,>=2.3.0->en_core_web_sm==2.3.1) (2020.6.20)\n",
      "Requirement already satisfied: chardet<4,>=3.0.2 in c:\\users\\tewod\\anaconda3\\lib\\site-packages (from requests<3.0.0,>=2.13.0->spacy<2.4.0,>=2.3.0->en_core_web_sm==2.3.1) (3.0.4)\n",
      "[+] Download and installation successful\n",
      "You can now load the model via spacy.load('en_core_web_sm')\n",
      "[x] Couldn't link model to 'en'\n",
      "Creating a symlink in spacy/data failed. Make sure you have the required\n",
      "permissions and try re-running the command as admin, or use a virtualenv. You\n",
      "can still import the model as a module and call its load() method, or create the\n",
      "symlink manually.\n",
      "C:\\Users\\tewod\\anaconda3\\lib\\site-packages\\en_core_web_sm -->\n",
      "C:\\Users\\tewod\\anaconda3\\lib\\site-packages\\spacy\\data\\en\n",
      "[!] Download successful but linking failed\n",
      "Creating a shortcut link for 'en' didn't work (maybe you don't have admin\n",
      "permissions?), but you can still load the model via its full package name: nlp =\n",
      "spacy.load('en_core_web_sm')\n"
     ]
    },
    {
     "name": "stderr",
     "output_type": "stream",
     "text": [
      "WARNING: You are using pip version 20.2.4; however, version 21.2.4 is available.\n",
      "You should consider upgrading via the 'C:\\Users\\tewod\\anaconda3\\python.exe -m pip install --upgrade pip' command.\n",
      "You do not have sufficient privilege to perform this operation.\n"
     ]
    }
   ],
   "source": [
    "!pip install spacy\n",
    "!python -m spacy download en_core_web_sm\n",
    "!python -m spacy download en_core_web_lg\n",
    "!python -m spacy download en"
   ]
  },
  {
   "cell_type": "markdown",
   "metadata": {},
   "source": [
    "Import Libraries"
   ]
  },
  {
   "cell_type": "code",
   "execution_count": 36,
   "metadata": {},
   "outputs": [],
   "source": [
    "import nltk\n",
    "from nltk.tokenize import word_tokenize\n",
    "from nltk.tokenize import RegexpTokenizer\n",
    "from nltk.corpus import stopwords\n",
    "from nltk.stem import WordNetLemmatizer\n",
    "import time\n",
    "import re\n",
    "import random \n",
    "import spacy"
   ]
  },
  {
   "cell_type": "markdown",
   "metadata": {},
   "source": [
    "Set the initial interface for Eliza and the users"
   ]
  },
  {
   "cell_type": "code",
   "execution_count": 37,
   "metadata": {},
   "outputs": [],
   "source": [
    "eliza_inter = \"[eliza]: {0}\"\n",
    "user_inter = \"[{0}]: \""
   ]
  },
  {
   "cell_type": "markdown",
   "metadata": {},
   "source": [
    "This part is about identifying users name from the words the customer entered. If it included person name, it is recogized as a name. And if the users only typed one word, it is recognized as a name. If the user typed the uppercase words, then the word is recogized as a name, otherwise just ignore it."
   ]
  },
  {
   "cell_type": "code",
   "execution_count": 38,
   "metadata": {},
   "outputs": [],
   "source": [
    "def name_user(user_typing):\n",
    "    en = spacy.load('en_core_web_sm')\n",
    "    doc = en(user_typing)\n",
    "    \n",
    "    name_list = [i for i in doc.ents if i.label_ == \"person\"]\n",
    "\n",
    "    if name_list:\n",
    "        user_name = name_list[0].text\n",
    "        eliza_response = \"It is good to meet you, \" + user_name +\". How are you feeling today ?\"\n",
    "    else:\n",
    "\n",
    "        name_token = word_tokenize(user_typing)\n",
    "        if len(name_token) == 1:\n",
    "           \n",
    "            user_name = name_token[0]\n",
    "            eliza_response = \"It is good to meet you, \" + user_name +\". How are you feeling today ?\"\n",
    "        else:\n",
    "            name_words = [w for w in name_token if re.search(r'[A-Z][A-z][a-z]', w)]\n",
    "            user_name = name_words\n",
    "            if len(name_words) == 0:\n",
    "                user_name = \"\"\n",
    "                eliza_response = \"It is good to meet you, how are you feeling today ?\"\n",
    "            else:\n",
    "                user_name = name_words[0]\n",
    "                eliza_response = \"It is good to meet you, \" + user_name +\". How are you feeling today ?\"\n",
    "        print(eliza_inter.format(eliza_response))\n",
    "        return user_name           "
   ]
  },
  {
   "cell_type": "markdown",
   "metadata": {},
   "source": [
    "The following rules, known as keys, have been built with the aid of the keywords from the questions, and the values of the key are the possible responses."
   ]
  },
  {
   "cell_type": "code",
   "execution_count": 39,
   "metadata": {},
   "outputs": [],
   "source": [
    "rules = {r'I need some (.*).':[\"Would it really help you to get some {0} ?\", \"Would that help you?\"],\n",
    "         r'How are you?':[ \"I'm fine, thank you. And you?\", \"I am good, how about you?\"],\n",
    "         r'I cannot (.*).':[\" Why you can't {0} ? \", \"Perhaps you could try {0} if you want.\",\"Can I know the reason?\"],\n",
    "         r'I am (.*).':[ \"Did you come to me because you are {0}?\",\"How do you feel about being {0}\"],\n",
    "         r'(.*)(good|happy|excited)(.)*':[\"That's great. Keep rocking!\",\"I am happy you are feeling that\"],\n",
    "         r'(.*)(sad|anxious|depressed|angry|stressed)(.)*':[ \" Why do you feel this way?\",\" I am sorry, how can I make you feel better?\",\" What do you do to make yourself feel better?\",\" Do you want to tell me more?\"],\n",
    "         r'Yes,(.)*':[\"Okay.\"],\n",
    "         r'No,(.)*':[\" Are you sure?\", \"Okay, tell me more\" ],\n",
    "         r'(.*)(cook.ing|dance.ing|sleep.ing|read.ing|walk.ing|music).':[\" Yes, that is something you could continue doing to cheer yourself up!\", \" I am glad you are talking to me. I would like to know more about your family and friends.\"],\n",
    "         r'(.*)family(.)*':[ \" Have you told your family about how you are feeling?\", \" Tell me more about your family.\"          ],\n",
    "         r'Are you (.*)':[\"Why does it matter whether I am {0}?\", \"Would you prefer that I were not {0}\", \"Maybe you believe I am {0}\", \"I may be {0} -- what do you think?\"],\n",
    "         r'What (.*)':[\"Why do you ask {0}?\", \"How would an answer to that question help {0}?\", \"What do you think {0}?\"],\n",
    "         r'Because (.*)':[\"Is that the reason?\", \"What other reasons come to mind?\", \"Does that reason apply to anything else?\", \"If {0}. what else must be true?\"],\n",
    "         r'(.*) sorry (.*)':[\"There are many times when no apology is needed.\", \"What feelings do you have when you apologize?\"],\n",
    "         r'Hello(.*)':[\"Hello... I am glad you could drop by today.\", \"Hi there... How are you doing today?\", \"Hello, How is it going today?\"],\n",
    "         r'You think (.*)':[\"Do you doubt {0}?\", \"Do you really think so?\", \"But you are not 100% sure {0}?\"],\n",
    "         r'Can you (.*)':[\"What makes you think I can't {0}?\", \"If I could {0}, then what?\", \"Why do you ask if I can {0}?\"],\n",
    "         r'You are (.*)':[\"Why do you say I am {0}?\", \"Why do you think I am {0}?\", \"Are we talking about you or me?\"],\n",
    "         r'I do not (.*)':[\"Don't you really {0}\", \"Why don't you {0}\", \"Do you want to {0}?\"],\n",
    "         r'I feel (.*)':[\"Good, tell me more about those feelings.\", \"Do you often feel {0}?\", \"When do you usually feel {0}?\", \"When you feel {0}?\"],\n",
    "         r'What should I do to be more (.*)?':[\"To be more {0} , you can socialize, try to excercise, and do the things that make you happy.\"],\n",
    "         r'(.*)':[\"So, how did you sleep?\", \"Life is messy, chaotic, confusing and that’s okay.\",\"Some things you’re stressing about just aren’t worth it.\", \"Be nice to yourself, you’re doing your best.\",\"I don't understand\", \"Can you tell me more?\", \"Okay, what do you think about that?\"]}"
   ]
  },
  {
   "cell_type": "markdown",
   "metadata": {},
   "source": [
    "Define how the responses can match the rules. If the response from the users can match any key of the dictionary, just randomly choose one answer from the values, and if the answer has {0}, we can use the word at (.*) to change it."
   ]
  },
  {
   "cell_type": "code",
   "execution_count": 40,
   "metadata": {},
   "outputs": [],
   "source": [
    "def match(rules,user_typing):\n",
    "    eliza_reply, u_says = \" \", None\n",
    "    for key,value in rules.items():\n",
    "        match_rules = re.search(key, user_typing)\n",
    "        if match_rules is not None:\n",
    "            eliza_reply = random.choice(value)\n",
    "            for word in eliza_reply:\n",
    "                if '{0}' in eliza_reply:\n",
    "                    u_says = match_rules.group(1)\n",
    "                    return eliza_reply.format(u_says)\n",
    "                else:\n",
    "                    eliza_reply = random.choice(value)\n",
    "                    return eliza_reply          "
   ]
  },
  {
   "cell_type": "markdown",
   "metadata": {},
   "source": [
    "This is the main function in which Eliza can be used. If the user types 'quit', the loop will be break, and the conversation will end."
   ]
  },
  {
   "cell_type": "code",
   "execution_count": 33,
   "metadata": {},
   "outputs": [
    {
     "name": "stdout",
     "output_type": "stream",
     "text": [
      "Hello, welcome to Eliza! Keep in mind that this is a safe place and I am here to help you. Type 'quit' if you want leave at any point.\n",
      "[eliza]: Hello, I am Eliza and I am a Physchotherapist. What is your name ?\n",
      "[user]: I am Teddy.\n",
      "[eliza]: It is good to meet you, Teddy. How are you feeling today ?\n",
      "[Teddy]: I feed sad.\n",
      "[eliza]:  What do you do to make yourself feel better?\n",
      "[Teddy]: Nothing\n",
      "[eliza]: Be nice to yourself, you’re doing your best.\n",
      "[Teddy]: I need some advice.\n",
      "[eliza]: Would that help you?\n",
      "[Teddy]: Yes.\n",
      "[eliza]: Can you tell me more?\n",
      "[Teddy]: What should I do to be more joyful.\n",
      "[eliza]: Life is messy, chaotic, confusing and that’s okay.\n",
      "[Teddy]: quit\n",
      "Goodbye, have a nice day!\n",
      "....................................\n",
      "                                                                                  \n",
      "      888888888 8    8      8       88      8 8   8  8      8  888888    8     8  \n",
      "          8     8    8     8 8      8 8     8 8  8    8    8  8      8   8     8  \n",
      "          8     8    8    8   8     8  8    8 8 8      8  8  8        8  8     8  \n",
      "          8     888888   8     8    8   8   8 88        88  8          8 8     8  \n",
      "          8     8    8  888888888   8    8  8 8 8       88   8        8  8     8  \n",
      "          8     8    8 8         8  8     8 8 8  8      88    8      8   8     8  \n",
      "          8     8    88           8 8      88 8   8     88     888888    8888888  \n"
     ]
    }
   ],
   "source": [
    "if __name__ == '__main__':\n",
    "    print (\"Hello, welcome to Eliza! Keep in mind that this is a safe place and I am here to help you. Type 'quit' if you want leave at any point.\")\n",
    "    message = \"Hello, I am Eliza and I am a Physchotherapist. What is your name ?\"\n",
    "    print(eliza_inter.format(message))\n",
    "    \n",
    "    user_typing = input(user_inter.format(\"user\"))\n",
    "    user_name = name_user(user_typing)\n",
    "\n",
    "    while True:\n",
    "        user_typing = input(user_inter.format(user_name))\n",
    "        if user_typing == 'quit':\n",
    "            print(\"Goodbye, have a nice day!\")\n",
    "            print(\"....................................\")\n",
    "            break\n",
    "        \n",
    "        eliza_response = match(rules,user_typing)\n",
    "        print(eliza_inter.format(eliza_response))\n",
    "        \n",
    "        \n",
    "print(\"                                                                                  \")\n",
    "print(\"      888888888 8    8      8       88      8 8   8  8      8  888888    8     8  \")\n",
    "print(\"          8     8    8     8 8      8 8     8 8  8    8    8  8      8   8     8  \")\n",
    "print(\"          8     8    8    8   8     8  8    8 8 8      8  8  8        8  8     8  \")\n",
    "print(\"          8     888888   8     8    8   8   8 88        88  8          8 8     8  \")\n",
    "print(\"          8     8    8  888888888   8    8  8 8 8       88   8        8  8     8  \")\n",
    "print(\"          8     8    8 8         8  8     8 8 8  8      88    8      8   8     8  \")\n",
    "print(\"          8     8    88           8 8      88 8   8     88     888888    8888888  \")\n",
    "        "
   ]
  },
  {
   "cell_type": "markdown",
   "metadata": {},
   "source": [
    "\n",
    "\n",
    "\n",
    "References:\n",
    "\n",
    "    https://docs.python.org/3/library/re.html\n",
    "    https://www.masswerk.at/elizabot/"
   ]
  }
 ],
 "metadata": {
  "kernelspec": {
   "display_name": "Python 3",
   "language": "python",
   "name": "python3"
  },
  "language_info": {
   "codemirror_mode": {
    "name": "ipython",
    "version": 3
   },
   "file_extension": ".py",
   "mimetype": "text/x-python",
   "name": "python",
   "nbconvert_exporter": "python",
   "pygments_lexer": "ipython3",
   "version": "3.8.3"
  }
 },
 "nbformat": 4,
 "nbformat_minor": 5
}
